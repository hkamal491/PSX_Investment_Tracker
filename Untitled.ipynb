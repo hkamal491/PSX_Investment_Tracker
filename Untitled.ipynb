{
 "cells": [
  {
   "cell_type": "code",
   "execution_count": 1,
   "id": "7f535370-a646-46a0-ad45-7d88e99e496d",
   "metadata": {},
   "outputs": [],
   "source": [
    "import pandas as pd"
   ]
  },
  {
   "cell_type": "code",
   "execution_count": 2,
   "id": "c008664d-9cfd-47cf-83f7-7df66bb8fdae",
   "metadata": {},
   "outputs": [],
   "source": [
    "from bs4 import BeautifulSoup"
   ]
  },
  {
   "cell_type": "code",
   "execution_count": 3,
   "id": "793e5dc8-1684-4b7f-a614-faac788df02c",
   "metadata": {},
   "outputs": [
    {
     "name": "stdout",
     "output_type": "stream",
     "text": [
      "Requirement already satisfied: lxml in c:\\users\\fahad kamal\\appdata\\local\\programs\\python\\python313\\lib\\site-packages (5.4.0)\n"
     ]
    }
   ],
   "source": [
    "!pip install lxml"
   ]
  },
  {
   "cell_type": "code",
   "execution_count": 24,
   "id": "662e1409-8663-434b-b476-92adcd7232e8",
   "metadata": {},
   "outputs": [],
   "source": [
    "import requests\n",
    "url =\"https://www.investing.com/currencies/usd-pkr-historical-data\""
   ]
  },
  {
   "cell_type": "code",
   "execution_count": 30,
   "id": "e72cbab5-4028-4b86-85df-ac9b56c2889d",
   "metadata": {},
   "outputs": [],
   "source": [
    "headers = {'User-Agent': 'Mozilla/5.0'}\n",
    "r=requests.get(url)"
   ]
  },
  {
   "cell_type": "code",
   "execution_count": 31,
   "id": "3f25b8d8-b95c-43f2-b8de-edf78042f19e",
   "metadata": {},
   "outputs": [],
   "source": [
    "Soup=BeautifulSoup(r.text,'html.parser')"
   ]
  },
  {
   "cell_type": "code",
   "execution_count": 37,
   "id": "621dd346-3663-40fc-b150-08898c3073f7",
   "metadata": {},
   "outputs": [
    {
     "name": "stdout",
     "output_type": "stream",
     "text": [
      "None\n"
     ]
    }
   ],
   "source": [
    "table = Soup.find('table',{'class': 'genTbl closedTbl historicalTbl'})\n",
    "print (table)"
   ]
  },
  {
   "cell_type": "code",
   "execution_count": 36,
   "id": "fcc61a8a-5e10-4535-b7d8-f73e3cc2e0ee",
   "metadata": {},
   "outputs": [
    {
     "ename": "AttributeError",
     "evalue": "'NoneType' object has no attribute 'find_all'",
     "output_type": "error",
     "traceback": [
      "\u001b[31m---------------------------------------------------------------------------\u001b[39m",
      "\u001b[31mAttributeError\u001b[39m                            Traceback (most recent call last)",
      "\u001b[36mCell\u001b[39m\u001b[36m \u001b[39m\u001b[32mIn[36]\u001b[39m\u001b[32m, line 1\u001b[39m\n\u001b[32m----> \u001b[39m\u001b[32m1\u001b[39m rows = \u001b[43mtable\u001b[49m\u001b[43m.\u001b[49m\u001b[43mfind_all\u001b[49m(\u001b[33m'\u001b[39m\u001b[33mtr\u001b[39m\u001b[33m'\u001b[39m)\n",
      "\u001b[31mAttributeError\u001b[39m: 'NoneType' object has no attribute 'find_all'"
     ]
    }
   ],
   "source": [
    "rows = table.find_all('tr')"
   ]
  },
  {
   "cell_type": "code",
   "execution_count": 29,
   "id": "cc6b38e6-40c7-415c-8013-d6910b98cd89",
   "metadata": {},
   "outputs": [
    {
     "name": "stdout",
     "output_type": "stream",
     "text": [
      "Columns in table: ['']\n"
     ]
    }
   ],
   "source": [
    "data=[]\n",
    "headers = [header.text.strip() for header in rows[0].find_all('th')]\n",
    "print(f\"Columns in table: {headers}\")"
   ]
  },
  {
   "cell_type": "code",
   "execution_count": 22,
   "id": "bef7ae3c-9bbe-41cc-a90c-e4cf7b7b8e9d",
   "metadata": {},
   "outputs": [],
   "source": [
    "for row in rows[1:]:  # Skip the header\n",
    "    cols = row.find_all('td')\n",
    "    cols = [ele.text.strip() for ele in cols]\n",
    "    if cols:  # If row is not empty\n",
    "        data.append(cols)\n",
    "\n",
    "# Create a dataframe\n",
    "df = pd.DataFrame(data, columns=['SYMBOL', 'SECTOR', 'LISTED IN','MARKET CAP.','PRICE','CHANGE(%)','1-YEAR CH.(%)*','PE RATIO(TTM)','DIVIDEND YEILD(%)','FREE FLOAT','30D VOLUMNE AVG.'])"
   ]
  },
  {
   "cell_type": "code",
   "execution_count": 23,
   "id": "b69d9df8-8b1d-4b72-8316-2073814a7f39",
   "metadata": {},
   "outputs": [
    {
     "data": {
      "text/html": [
       "<div>\n",
       "<style scoped>\n",
       "    .dataframe tbody tr th:only-of-type {\n",
       "        vertical-align: middle;\n",
       "    }\n",
       "\n",
       "    .dataframe tbody tr th {\n",
       "        vertical-align: top;\n",
       "    }\n",
       "\n",
       "    .dataframe thead th {\n",
       "        text-align: right;\n",
       "    }\n",
       "</style>\n",
       "<table border=\"1\" class=\"dataframe\">\n",
       "  <thead>\n",
       "    <tr style=\"text-align: right;\">\n",
       "      <th></th>\n",
       "      <th>SYMBOL</th>\n",
       "      <th>SECTOR</th>\n",
       "      <th>LISTED IN</th>\n",
       "      <th>MARKET CAP.</th>\n",
       "      <th>PRICE</th>\n",
       "      <th>CHANGE(%)</th>\n",
       "      <th>1-YEAR CH.(%)*</th>\n",
       "      <th>PE RATIO(TTM)</th>\n",
       "      <th>DIVIDEND YEILD(%)</th>\n",
       "      <th>FREE FLOAT</th>\n",
       "      <th>30D VOLUMNE AVG.</th>\n",
       "    </tr>\n",
       "  </thead>\n",
       "  <tbody>\n",
       "    <tr>\n",
       "      <th>0</th>\n",
       "      <td>786</td>\n",
       "      <td>0813</td>\n",
       "      <td>ALLSHR</td>\n",
       "      <td>128.5M</td>\n",
       "      <td>8.58</td>\n",
       "      <td>0.59%</td>\n",
       "      <td>54.87%</td>\n",
       "      <td>17.16</td>\n",
       "      <td>0.00</td>\n",
       "      <td>5.2M</td>\n",
       "      <td>4,051</td>\n",
       "    </tr>\n",
       "    <tr>\n",
       "      <th>1</th>\n",
       "      <td>AABS</td>\n",
       "      <td>0826</td>\n",
       "      <td>ALLSHR,KMIALLSHR</td>\n",
       "      <td>12.2B</td>\n",
       "      <td>704.30</td>\n",
       "      <td>-2.89%</td>\n",
       "      <td>23.64%</td>\n",
       "      <td>20.56</td>\n",
       "      <td>5.41</td>\n",
       "      <td>1.7M</td>\n",
       "      <td>586</td>\n",
       "    </tr>\n",
       "    <tr>\n",
       "      <th>2</th>\n",
       "      <td>AALNC</td>\n",
       "      <td>0830</td>\n",
       "      <td>ALLSHR</td>\n",
       "      <td>0.0</td>\n",
       "      <td>0.00</td>\n",
       "      <td>0.00%</td>\n",
       "      <td>-100.00%</td>\n",
       "      <td>0.00</td>\n",
       "      <td>0.00</td>\n",
       "      <td>0.0</td>\n",
       "      <td>0</td>\n",
       "    </tr>\n",
       "    <tr>\n",
       "      <th>3</th>\n",
       "      <td>AASMNC</td>\n",
       "      <td>0827</td>\n",
       "      <td>ALLSHR</td>\n",
       "      <td>46.8M</td>\n",
       "      <td>3.49</td>\n",
       "      <td>10.79%</td>\n",
       "      <td>0.00%</td>\n",
       "      <td>0.47</td>\n",
       "      <td>0.00</td>\n",
       "      <td>2.7M</td>\n",
       "      <td>0</td>\n",
       "    </tr>\n",
       "    <tr>\n",
       "      <th>4</th>\n",
       "      <td>AATM</td>\n",
       "      <td>0830</td>\n",
       "      <td>ALLSHR</td>\n",
       "      <td>2.0B</td>\n",
       "      <td>44.33</td>\n",
       "      <td>-5.20%</td>\n",
       "      <td>2041.55%</td>\n",
       "      <td>24.22</td>\n",
       "      <td>0.00</td>\n",
       "      <td>926.2K</td>\n",
       "      <td>1,876</td>\n",
       "    </tr>\n",
       "    <tr>\n",
       "      <th>...</th>\n",
       "      <td>...</td>\n",
       "      <td>...</td>\n",
       "      <td>...</td>\n",
       "      <td>...</td>\n",
       "      <td>...</td>\n",
       "      <td>...</td>\n",
       "      <td>...</td>\n",
       "      <td>...</td>\n",
       "      <td>...</td>\n",
       "      <td>...</td>\n",
       "      <td>...</td>\n",
       "    </tr>\n",
       "    <tr>\n",
       "      <th>698</th>\n",
       "      <td>ZAL</td>\n",
       "      <td>0828</td>\n",
       "      <td>ALLSHR,KMIALLSHR</td>\n",
       "      <td>3.9B</td>\n",
       "      <td>15.00</td>\n",
       "      <td>-0.73%</td>\n",
       "      <td>-0.73%</td>\n",
       "      <td>0.51</td>\n",
       "      <td>0.00</td>\n",
       "      <td>65.6M</td>\n",
       "      <td>549,146</td>\n",
       "    </tr>\n",
       "    <tr>\n",
       "      <th>699</th>\n",
       "      <td>ZELPNC</td>\n",
       "      <td>0804</td>\n",
       "      <td>ALLSHR</td>\n",
       "      <td>188.2M</td>\n",
       "      <td>0.44</td>\n",
       "      <td>0.00%</td>\n",
       "      <td>0.00%</td>\n",
       "      <td>0.00</td>\n",
       "      <td>0.00</td>\n",
       "      <td>51.0M</td>\n",
       "      <td>0</td>\n",
       "    </tr>\n",
       "    <tr>\n",
       "      <th>700</th>\n",
       "      <td>ZHCMNC</td>\n",
       "      <td>0829</td>\n",
       "      <td>ALLSHR</td>\n",
       "      <td>591.6K</td>\n",
       "      <td>0.06</td>\n",
       "      <td>0.00%</td>\n",
       "      <td>0.00%</td>\n",
       "      <td>0.00</td>\n",
       "      <td>0.00</td>\n",
       "      <td>4.4M</td>\n",
       "      <td>0</td>\n",
       "    </tr>\n",
       "    <tr>\n",
       "      <th>701</th>\n",
       "      <td>ZILXD</td>\n",
       "      <td>0810</td>\n",
       "      <td>ALLSHR,KMIALLSHR</td>\n",
       "      <td>1.8B</td>\n",
       "      <td>300.61</td>\n",
       "      <td>-2.15%</td>\n",
       "      <td>11.34%</td>\n",
       "      <td>97.92</td>\n",
       "      <td>1.18</td>\n",
       "      <td>306.1K</td>\n",
       "      <td>3,274</td>\n",
       "    </tr>\n",
       "    <tr>\n",
       "      <th>702</th>\n",
       "      <td>ZTL</td>\n",
       "      <td>0831</td>\n",
       "      <td>ALLSHR,KMIALLSHR</td>\n",
       "      <td>683.4M</td>\n",
       "      <td>11.50</td>\n",
       "      <td>0.00%</td>\n",
       "      <td>-6.35%</td>\n",
       "      <td>0.00</td>\n",
       "      <td>0.00</td>\n",
       "      <td>8.9M</td>\n",
       "      <td>2,843</td>\n",
       "    </tr>\n",
       "  </tbody>\n",
       "</table>\n",
       "<p>703 rows × 11 columns</p>\n",
       "</div>"
      ],
      "text/plain": [
       "     SYMBOL SECTOR         LISTED IN MARKET CAP.   PRICE CHANGE(%)  \\\n",
       "0       786   0813            ALLSHR      128.5M    8.58     0.59%   \n",
       "1      AABS   0826  ALLSHR,KMIALLSHR       12.2B  704.30    -2.89%   \n",
       "2     AALNC   0830            ALLSHR         0.0    0.00     0.00%   \n",
       "3    AASMNC   0827            ALLSHR       46.8M    3.49    10.79%   \n",
       "4      AATM   0830            ALLSHR        2.0B   44.33    -5.20%   \n",
       "..      ...    ...               ...         ...     ...       ...   \n",
       "698     ZAL   0828  ALLSHR,KMIALLSHR        3.9B   15.00    -0.73%   \n",
       "699  ZELPNC   0804            ALLSHR      188.2M    0.44     0.00%   \n",
       "700  ZHCMNC   0829            ALLSHR      591.6K    0.06     0.00%   \n",
       "701   ZILXD   0810  ALLSHR,KMIALLSHR        1.8B  300.61    -2.15%   \n",
       "702     ZTL   0831  ALLSHR,KMIALLSHR      683.4M   11.50     0.00%   \n",
       "\n",
       "    1-YEAR CH.(%)* PE RATIO(TTM) DIVIDEND YEILD(%) FREE FLOAT 30D VOLUMNE AVG.  \n",
       "0           54.87%         17.16              0.00       5.2M            4,051  \n",
       "1           23.64%         20.56              5.41       1.7M              586  \n",
       "2         -100.00%          0.00              0.00        0.0                0  \n",
       "3            0.00%          0.47              0.00       2.7M                0  \n",
       "4         2041.55%         24.22              0.00     926.2K            1,876  \n",
       "..             ...           ...               ...        ...              ...  \n",
       "698         -0.73%          0.51              0.00      65.6M          549,146  \n",
       "699          0.00%          0.00              0.00      51.0M                0  \n",
       "700          0.00%          0.00              0.00       4.4M                0  \n",
       "701         11.34%         97.92              1.18     306.1K            3,274  \n",
       "702         -6.35%          0.00              0.00       8.9M            2,843  \n",
       "\n",
       "[703 rows x 11 columns]"
      ]
     },
     "execution_count": 23,
     "metadata": {},
     "output_type": "execute_result"
    }
   ],
   "source": [
    "df"
   ]
  },
  {
   "cell_type": "code",
   "execution_count": null,
   "id": "7bd25c94-047f-4fa7-978f-6c94349ab975",
   "metadata": {},
   "outputs": [],
   "source": []
  }
 ],
 "metadata": {
  "kernelspec": {
   "display_name": "Python 3 (ipykernel)",
   "language": "python",
   "name": "python3"
  },
  "language_info": {
   "codemirror_mode": {
    "name": "ipython",
    "version": 3
   },
   "file_extension": ".py",
   "mimetype": "text/x-python",
   "name": "python",
   "nbconvert_exporter": "python",
   "pygments_lexer": "ipython3",
   "version": "3.13.2"
  }
 },
 "nbformat": 4,
 "nbformat_minor": 5
}
